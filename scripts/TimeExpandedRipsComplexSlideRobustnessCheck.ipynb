{
 "cells": [
  {
   "cell_type": "markdown",
   "id": "turkish-denial",
   "metadata": {},
   "source": [
    "### This file produces the time expanded rips complexes for the tranist or car networks\n",
    "- it is currently set up to do the computation for the car network\n",
    "- the last cell computes cohomology of the car network, this cell should not be run when looking at transit"
   ]
  },
  {
   "cell_type": "code",
   "execution_count": 1,
   "id": "veterinary-pleasure",
   "metadata": {},
   "outputs": [],
   "source": [
    "from ripser import ripser\n",
    "from persim import plot_diagrams,bottleneck\n",
    "import json\n",
    "import numpy as np\n",
    "import pandas as pd\n",
    "import geopandas as gpd\n",
    "import shapely\n",
    "import seaborn as sns\n",
    "import networkx as nx\n",
    "import matplotlib.pyplot as plt\n",
    "import itertools\n",
    "import gudhi as gd\n",
    "import sympy\n",
    "from tqdm.notebook import tqdm,trange\n",
    "import pickle\n",
    "import os\n",
    "import gc\n",
    "import subprocess\n",
    "\n",
    "from natsort import natsorted\n",
    "\n",
    "\n",
    "from scipy.sparse import coo_matrix"
   ]
  },
  {
   "cell_type": "markdown",
   "id": "educational-victim",
   "metadata": {},
   "source": [
    "# Make time expanded distance matrix"
   ]
  },
  {
   "cell_type": "code",
   "execution_count": 2,
   "id": "worthy-multiple",
   "metadata": {},
   "outputs": [],
   "source": [
    "def make_coo_matrix_nodelay(origins,point_origins,dfs,timeRange=15,maxTime=60,savefile=None):\n",
    "    \n",
    "    num_layers = len(dfs)\n",
    "    num_origins = len(origins)\n",
    "    # We construct a sparse num_origins * num_origins * num_layers\n",
    "    # matrix which will contain the distances to form\n",
    "    # a Rips complex. Non-existent entries in sparse\n",
    "    # matrices are interpreted as infinity by ripser.\n",
    "    \n",
    "    # First we need to add the distances which correspond to waiting at a stop \n",
    "    \n",
    "    data = [timeRange*j  for i in origins\n",
    "                 for k in range(0,num_layers+maxTime//timeRange)\n",
    "                   for j in range(1,maxTime//timeRange  - (k-num_layers))\n",
    "                   ]\n",
    "    \n",
    "    rows = [i + num_origins*k  for i in origins\n",
    "                 for k in range(0,num_layers+maxTime//timeRange)\n",
    "                   for _ in range(1,maxTime//timeRange  - (k-num_layers))\n",
    "                   ]\n",
    "    \n",
    "    cols = [i + num_origins*j + k*num_origins for i in origins\n",
    "                       for k in range(0,num_layers+maxTime//timeRange)\n",
    "                        for j in range(1,maxTime//timeRange  - (k-num_layers))]\n",
    "    \n",
    "    \n",
    "    \n",
    "    matrix_size = (maxTime//timeRange + num_layers) * num_origins\n",
    "    \n",
    "    print(\"Forming {} by {} sparse distance matrix\".format(matrix_size,matrix_size))\n",
    "    for layer_ind,df in enumerate(dfs):\n",
    "        # dfs are ordered by start time\n",
    "        \n",
    "        # figure out connections to each layer by \n",
    "        # making a connection from layer i to layer\n",
    "        # i + ceil(travel_time/timeRange)\n",
    "        for j,origin in tqdm(enumerate(origins)):\n",
    "            origin_loc = num_origins * layer_ind + j\n",
    "            dist_dict = {}\n",
    "            seen = set([j])\n",
    "            \n",
    "            for cutoff in range(timeRange,maxTime+1,timeRange):\n",
    "                geom = df.loc[(j,cutoff),'geometry']\n",
    "                in_pts = [i for i,ori in enumerate(point_origins) if ori.within(geom)]\n",
    "                for pt in in_pts:\n",
    "                    if pt not in seen:\n",
    "                        dist_dict[pt] = cutoff\n",
    "                        seen.add(pt)\n",
    "            \n",
    "            inds_data = [(int(num_origins*(np.ceil(val/timeRange) + k) + num_origins * layer_ind + key), val + k*timeRange) for key,val in dist_dict.items()\n",
    "                        for k in range(0,int(np.ceil(maxTime/timeRange) - np.ceil(val/timeRange)) + num_layers - layer_ind)]\n",
    "            data += [x[1] for x in inds_data]\n",
    "            cols += [x[0] for x in inds_data]\n",
    "            rows += [origin_loc for _ in inds_data]\n",
    "        \n",
    "     \n",
    "    out_mat = coo_matrix((data,(rows,cols)),shape=(matrix_size,matrix_size))\n",
    "    symmetrized = out_mat + out_mat.transpose()\n",
    "    if savefile:\n",
    "        with open(savefile,'w+') as f:\n",
    "            for i,dat in enumerate(data):\n",
    "                f.write(\"{} {} {}\".format(rows[i],cols[i],dat))\n",
    "                if i < len(data)-1:\n",
    "                    f.write(\"\\n\")\n",
    "    return out_mat\n"
   ]
  },
  {
   "cell_type": "markdown",
   "id": "subtle-fraction",
   "metadata": {},
   "source": [
    "#### For each subregion in stockholm, use isochrone data to make a sparse distance matrix representing travel times in the transit or car network. \n",
    "- depending on whether is looking at transit or car, lines should be commented/uncommented and directory names changed accordingly"
   ]
  },
  {
   "cell_type": "code",
   "execution_count": 3,
   "id": "removed-marshall",
   "metadata": {
    "scrolled": true
   },
   "outputs": [
    {
     "name": "stdout",
     "output_type": "stream",
     "text": [
      "Starting on directory number 4 of 1\n"
     ]
    },
    {
     "data": {
      "application/vnd.jupyter.widget-view+json": {
       "model_id": "9579b9e3a4ba46bc83d1e1395e454f9e",
       "version_major": 2,
       "version_minor": 0
      },
      "text/plain": [
       "  0%|          | 0/20 [00:00<?, ?it/s]"
      ]
     },
     "metadata": {},
     "output_type": "display_data"
    },
    {
     "name": "stdout",
     "output_type": "stream",
     "text": [
      "Forming 7456 by 7456 sparse distance matrix\n"
     ]
    },
    {
     "data": {
      "application/vnd.jupyter.widget-view+json": {
       "model_id": "1c84ded0571a432c8c38601c0c2c7bf3",
       "version_major": 2,
       "version_minor": 0
      },
      "text/plain": [
       "0it [00:00, ?it/s]"
      ]
     },
     "metadata": {},
     "output_type": "display_data"
    },
    {
     "data": {
      "application/vnd.jupyter.widget-view+json": {
       "model_id": "bd9f8f3e7bf348b3a8b755b3edafd2c2",
       "version_major": 2,
       "version_minor": 0
      },
      "text/plain": [
       "0it [00:00, ?it/s]"
      ]
     },
     "metadata": {},
     "output_type": "display_data"
    },
    {
     "data": {
      "application/vnd.jupyter.widget-view+json": {
       "model_id": "95748c53ea2a47a9b184067648645252",
       "version_major": 2,
       "version_minor": 0
      },
      "text/plain": [
       "0it [00:00, ?it/s]"
      ]
     },
     "metadata": {},
     "output_type": "display_data"
    },
    {
     "data": {
      "application/vnd.jupyter.widget-view+json": {
       "model_id": "dee4b3bebe43447589159bcac1bdaa72",
       "version_major": 2,
       "version_minor": 0
      },
      "text/plain": [
       "0it [00:00, ?it/s]"
      ]
     },
     "metadata": {},
     "output_type": "display_data"
    },
    {
     "data": {
      "application/vnd.jupyter.widget-view+json": {
       "model_id": "24f9b5f1921442728eae3d6df7e595de",
       "version_major": 2,
       "version_minor": 0
      },
      "text/plain": [
       "0it [00:00, ?it/s]"
      ]
     },
     "metadata": {},
     "output_type": "display_data"
    },
    {
     "data": {
      "application/vnd.jupyter.widget-view+json": {
       "model_id": "6ceba4d1f4734899a0eb549e0c92e9c3",
       "version_major": 2,
       "version_minor": 0
      },
      "text/plain": [
       "0it [00:00, ?it/s]"
      ]
     },
     "metadata": {},
     "output_type": "display_data"
    },
    {
     "data": {
      "application/vnd.jupyter.widget-view+json": {
       "model_id": "70edce0ae45f402dad33a41c42a628d2",
       "version_major": 2,
       "version_minor": 0
      },
      "text/plain": [
       "0it [00:00, ?it/s]"
      ]
     },
     "metadata": {},
     "output_type": "display_data"
    },
    {
     "data": {
      "application/vnd.jupyter.widget-view+json": {
       "model_id": "07b0bbd20210419888de7c26ce2e98d7",
       "version_major": 2,
       "version_minor": 0
      },
      "text/plain": [
       "0it [00:00, ?it/s]"
      ]
     },
     "metadata": {},
     "output_type": "display_data"
    },
    {
     "data": {
      "application/vnd.jupyter.widget-view+json": {
       "model_id": "e4ea47a09b7140508ba8299abc75739a",
       "version_major": 2,
       "version_minor": 0
      },
      "text/plain": [
       "0it [00:00, ?it/s]"
      ]
     },
     "metadata": {},
     "output_type": "display_data"
    },
    {
     "data": {
      "application/vnd.jupyter.widget-view+json": {
       "model_id": "9e15d06726654f16a670f77b604a05a4",
       "version_major": 2,
       "version_minor": 0
      },
      "text/plain": [
       "0it [00:00, ?it/s]"
      ]
     },
     "metadata": {},
     "output_type": "display_data"
    },
    {
     "data": {
      "application/vnd.jupyter.widget-view+json": {
       "model_id": "45f43009df72419b80c77a235167ed58",
       "version_major": 2,
       "version_minor": 0
      },
      "text/plain": [
       "0it [00:00, ?it/s]"
      ]
     },
     "metadata": {},
     "output_type": "display_data"
    },
    {
     "data": {
      "application/vnd.jupyter.widget-view+json": {
       "model_id": "207782cb0186467a87d41c3cd0c6f519",
       "version_major": 2,
       "version_minor": 0
      },
      "text/plain": [
       "0it [00:00, ?it/s]"
      ]
     },
     "metadata": {},
     "output_type": "display_data"
    },
    {
     "data": {
      "application/vnd.jupyter.widget-view+json": {
       "model_id": "c2043b5762c640799907cac37b03cd0d",
       "version_major": 2,
       "version_minor": 0
      },
      "text/plain": [
       "0it [00:00, ?it/s]"
      ]
     },
     "metadata": {},
     "output_type": "display_data"
    },
    {
     "data": {
      "application/vnd.jupyter.widget-view+json": {
       "model_id": "6fa9287a2e344d278ee5d706a4e4926d",
       "version_major": 2,
       "version_minor": 0
      },
      "text/plain": [
       "0it [00:00, ?it/s]"
      ]
     },
     "metadata": {},
     "output_type": "display_data"
    },
    {
     "data": {
      "application/vnd.jupyter.widget-view+json": {
       "model_id": "1268a6c4e74a4079a6f019db25fbc1cb",
       "version_major": 2,
       "version_minor": 0
      },
      "text/plain": [
       "0it [00:00, ?it/s]"
      ]
     },
     "metadata": {},
     "output_type": "display_data"
    },
    {
     "data": {
      "application/vnd.jupyter.widget-view+json": {
       "model_id": "e989451e4875460e9e2ae8191e93f772",
       "version_major": 2,
       "version_minor": 0
      },
      "text/plain": [
       "0it [00:00, ?it/s]"
      ]
     },
     "metadata": {},
     "output_type": "display_data"
    },
    {
     "data": {
      "application/vnd.jupyter.widget-view+json": {
       "model_id": "0bb05e79bd75416aab4f5792917e6232",
       "version_major": 2,
       "version_minor": 0
      },
      "text/plain": [
       "0it [00:00, ?it/s]"
      ]
     },
     "metadata": {},
     "output_type": "display_data"
    },
    {
     "data": {
      "application/vnd.jupyter.widget-view+json": {
       "model_id": "57a83347d5be42d993e91be3753bdf19",
       "version_major": 2,
       "version_minor": 0
      },
      "text/plain": [
       "0it [00:00, ?it/s]"
      ]
     },
     "metadata": {},
     "output_type": "display_data"
    },
    {
     "data": {
      "application/vnd.jupyter.widget-view+json": {
       "model_id": "63d2d2f9ed4644ca866138353c36cbd5",
       "version_major": 2,
       "version_minor": 0
      },
      "text/plain": [
       "0it [00:00, ?it/s]"
      ]
     },
     "metadata": {},
     "output_type": "display_data"
    },
    {
     "data": {
      "application/vnd.jupyter.widget-view+json": {
       "model_id": "a8b29455ab9548e9a9f415b7f72bfd5c",
       "version_major": 2,
       "version_minor": 0
      },
      "text/plain": [
       "0it [00:00, ?it/s]"
      ]
     },
     "metadata": {},
     "output_type": "display_data"
    },
    {
     "name": "stdout",
     "output_type": "stream",
     "text": [
      "233\n"
     ]
    }
   ],
   "source": [
    "for iso_dir in natsorted([x for x in os.listdir('RobustIsochrones') if not x.startswith('.DS')]):\n",
    "    slide_num = iso_dir.split('_')[-1]\n",
    "    # if slide_num != '17':\n",
    "    #     continue\n",
    "    print(f\"Starting on directory number {slide_num} of {len(os.listdir('RobustIsochrones'))}\")\n",
    "    trans_files = sorted(['RobustIsochrones/'+iso_dir + '/' + x for x in os.listdir('RobustIsochrones/'+iso_dir) if not x.startswith('.DS')])\n",
    "    #car_files = sorted(['SlideIsochronesCar/'+iso_dir + '/' + x for x in os.listdir('SlideIsochronesCar/'+iso_dir)])\n",
    "    #bike_files = sorted([isochrone_dir + x for x in os.listdir(isochrone_dir) if x.endswith('bicycle.json')])\n",
    "    trans_gdfs = [gpd.read_file(file) for file in trans_files]\n",
    "    origins = sorted(set(trans_gdfs[0].loc[:,'origin']))\n",
    "    \n",
    "    trans_dfs = [x.set_index(['origin','cutoff']) for x in trans_gdfs]\n",
    "    #car_dfs = [x.set_index(['origin','cutoff']) for x in car_gdfs]\n",
    "    #bike_dfs = [x.set_index(['origin','cutoff']) for x in bike_gdfs]\n",
    "    for df in tqdm(trans_dfs):\n",
    "        df['geometry'] = df['geometry'].simplify(tolerance=0.005)\n",
    "        \n",
    "    point_origins = [shapely.geometry.Point(x,y) for x,y in trans_gdfs[0][trans_gdfs[0]['cutoff'] == 60].loc[:,['fromLon','fromLat']].values]\n",
    "    sparse_nodelay = make_coo_matrix_nodelay(origins,point_origins,trans_dfs,5,60,f\"sparsemat_slide_hole_trans_{slide_num}.txt\")\n",
    "    print(len(origins))"
   ]
  },
  {
   "cell_type": "code",
   "execution_count": 4,
   "id": "fixed-protocol",
   "metadata": {},
   "outputs": [
    {
     "data": {
      "text/plain": [
       "419"
      ]
     },
     "execution_count": 4,
     "metadata": {},
     "output_type": "execute_result"
    }
   ],
   "source": [
    "gc.collect()"
   ]
  },
  {
   "cell_type": "code",
   "execution_count": 5,
   "id": "fitting-desktop",
   "metadata": {},
   "outputs": [],
   "source": [
    "matrix_size = (60//5 + 20) * len(origins)"
   ]
  },
  {
   "cell_type": "markdown",
   "id": "empty-satellite",
   "metadata": {},
   "source": [
    "#### When looking at car travel times, this cell computes the cohomology of the network. This will be used in the ProcessRipserC++Slide notebook"
   ]
  },
  {
   "cell_type": "code",
   "execution_count": 6,
   "id": "raised-amino",
   "metadata": {},
   "outputs": [],
   "source": [
    "# for i in trange(2,3):\n",
    "#     trans_gdf = gpd.read_file(f'RobustIsochrones/Slide_{i}/stock_nowater_pairs_400_{i} (1).json')\n",
    "#     origins = sorted(set(trans_gdf.loc[:,'origin']))\n",
    "#     matrix_size = (60//5 + 20) * len(origins)\n",
    "#     sps = pd.read_csv(f'sparsemat_slide_hole_trans_{i}.txt',header=None,sep=' ')\n",
    "#     row = sps.iloc[:,0]\n",
    "#     col = sps.iloc[:,1]\n",
    "#     data = sps.iloc[:,2]\n",
    "#     sparse_nodelay = coo_matrix((data,(row,col)),shape=(matrix_size,matrix_size))\n",
    "#     ripsInfo = ripser(sparse_nodelay, \n",
    "#           maxdim=1, \n",
    "#           thresh=65, \n",
    "#           distance_matrix=True, \n",
    "#           do_cocycles=True, \n",
    "#           metric=None, \n",
    "#           n_perm=None)\n",
    "    \n",
    "#     with open(f'trans_coho_slide_{i}.p','wb') as f:\n",
    "#         pickle.dump(ripsInfo,f)\n",
    "        \n",
    "#     gc.collect()"
   ]
  },
  {
   "cell_type": "code",
   "execution_count": null,
   "id": "amino-train",
   "metadata": {},
   "outputs": [],
   "source": []
  }
 ],
 "metadata": {
  "kernelspec": {
   "display_name": "Python 3.9.7 ('.venv': venv)",
   "language": "python",
   "name": "python3"
  },
  "language_info": {
   "codemirror_mode": {
    "name": "ipython",
    "version": 3
   },
   "file_extension": ".py",
   "mimetype": "text/x-python",
   "name": "python",
   "nbconvert_exporter": "python",
   "pygments_lexer": "ipython3",
   "version": "3.9.7"
  },
  "vscode": {
   "interpreter": {
    "hash": "6d73269661cd96e104e0c8367fe54e880a091a1681a7536cc663a21382d9b9ea"
   }
  }
 },
 "nbformat": 4,
 "nbformat_minor": 5
}
