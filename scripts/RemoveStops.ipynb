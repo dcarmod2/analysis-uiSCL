{
 "cells": [
  {
   "cell_type": "code",
   "execution_count": 50,
   "metadata": {},
   "outputs": [],
   "source": [
    "import geopandas as gpd\n",
    "import pandas as pd\n",
    "import json\n",
    "import numpy as np\n",
    "import os\n",
    "from shapely.geometry import Point\n",
    "import math\n",
    "from natsort import natsorted\n",
    "from zipfile import ZipFile,ZIP_DEFLATED\n"
   ]
  },
  {
   "cell_type": "code",
   "execution_count": 51,
   "metadata": {},
   "outputs": [],
   "source": [
    "STOCKHOLM_PROJ='EPSG:5850'\n",
    "UNPROJECT='EPSG:4326'"
   ]
  },
  {
   "cell_type": "code",
   "execution_count": 52,
   "metadata": {},
   "outputs": [],
   "source": [
    "grid_files = natsorted([x for x in os.listdir('../lib/actions/analysis/') if x.startswith('stock_nowater_pairs_400_')])"
   ]
  },
  {
   "cell_type": "code",
   "execution_count": 53,
   "metadata": {},
   "outputs": [],
   "source": [
    "# grid_gdfs = [gpd.read_file('../lib/actions/analysis/' + x) for x in grid_files]\n",
    "grid_gdfs = [json.load(open('../lib/actions/analysis/' + x))[\"pairs\"] for x in grid_files]\n"
   ]
  },
  {
   "cell_type": "code",
   "execution_count": 42,
   "metadata": {},
   "outputs": [],
   "source": [
    "# grid_centroids = [x['geometry'].unary_union.centroid for x in grid_gdfs]"
   ]
  },
  {
   "cell_type": "code",
   "execution_count": 55,
   "metadata": {},
   "outputs": [
    {
     "name": "stdout",
     "output_type": "stream",
     "text": [
      "[18.21694819 59.32298716 18.11836833 59.25822916]\n",
      "[18.16881176 59.28878743]\n"
     ]
    }
   ],
   "source": [
    "# grid_xy = np.array([(pair.x,pair.y) for pair in grid_centroids])\n",
    "grid_xy = [np.mean(points, axis=0) for points in grid_gdfs]\n",
    "grid_bounds = [np.append(np.amax(points, axis=0), np.amin(points, axis=0)) for points in grid_gdfs]\n",
    "print(grid_bounds[44])\n",
    "print(grid_xy[44])"
   ]
  },
  {
   "cell_type": "code",
   "execution_count": 24,
   "metadata": {},
   "outputs": [],
   "source": [
    "def toRad(value):\n",
    "    return value * np.pi / 180;\n",
    "\n",
    "def haversine(lat1,lon1,lat2,lon2):\n",
    "    R = 6371\n",
    "    latDistance = toRad(lat2-lat1)\n",
    "    lonDistance = toRad(lon2-lon1)\n",
    "    a = np.sin(latDistance / 2) * np.sin(latDistance / 2) + np.cos(toRad(lat1)) * np.cos(toRad(lat2)) * np.sin(lonDistance / 2) * np.sin(lonDistance / 2)\n",
    "    c = 2 * np.arctan2(np.sqrt(a), np.sqrt(1-a))\n",
    "    distance = R * c * 1000\n",
    "    return distance\n"
   ]
  },
  {
   "cell_type": "code",
   "execution_count": 25,
   "metadata": {},
   "outputs": [],
   "source": [
    "gtf_dir = 'gtfs/'"
   ]
  },
  {
   "cell_type": "code",
   "execution_count": 26,
   "metadata": {},
   "outputs": [],
   "source": [
    "routes = pd.read_csv(gtf_dir+'routes.txt')\n",
    "trips = pd.read_csv(gtf_dir+'trips.txt')\n",
    "shapes = pd.read_csv(gtf_dir+'shapes.txt')\n",
    "stops = pd.read_csv(gtf_dir+'stops.txt')\n",
    "stop_times = pd.read_csv(gtf_dir+'stop_times.txt')\n",
    "stops_re = stops.set_index('stop_id')"
   ]
  },
  {
   "cell_type": "code",
   "execution_count": 27,
   "metadata": {
    "scrolled": true
   },
   "outputs": [
    {
     "data": {
      "text/html": [
       "<div>\n",
       "<style scoped>\n",
       "    .dataframe tbody tr th:only-of-type {\n",
       "        vertical-align: middle;\n",
       "    }\n",
       "\n",
       "    .dataframe tbody tr th {\n",
       "        vertical-align: top;\n",
       "    }\n",
       "\n",
       "    .dataframe thead th {\n",
       "        text-align: right;\n",
       "    }\n",
       "</style>\n",
       "<table border=\"1\" class=\"dataframe\">\n",
       "  <thead>\n",
       "    <tr style=\"text-align: right;\">\n",
       "      <th></th>\n",
       "      <th>trip_id</th>\n",
       "      <th>arrival_time</th>\n",
       "      <th>departure_time</th>\n",
       "      <th>stop_id</th>\n",
       "      <th>stop_sequence</th>\n",
       "      <th>stop_headsign</th>\n",
       "      <th>pickup_type</th>\n",
       "      <th>drop_off_type</th>\n",
       "      <th>shape_dist_traveled</th>\n",
       "      <th>timepoint</th>\n",
       "    </tr>\n",
       "  </thead>\n",
       "  <tbody>\n",
       "    <tr>\n",
       "      <th>0</th>\n",
       "      <td>14010000543458876</td>\n",
       "      <td>23:55:00</td>\n",
       "      <td>23:55:00</td>\n",
       "      <td>9022001040004001</td>\n",
       "      <td>1</td>\n",
       "      <td>Slussen</td>\n",
       "      <td>3</td>\n",
       "      <td>1</td>\n",
       "      <td>0.00</td>\n",
       "      <td>1</td>\n",
       "    </tr>\n",
       "    <tr>\n",
       "      <th>1</th>\n",
       "      <td>14010000543458876</td>\n",
       "      <td>23:55:37</td>\n",
       "      <td>23:55:37</td>\n",
       "      <td>9022001040051002</td>\n",
       "      <td>2</td>\n",
       "      <td>Slussen</td>\n",
       "      <td>3</td>\n",
       "      <td>3</td>\n",
       "      <td>308.12</td>\n",
       "      <td>0</td>\n",
       "    </tr>\n",
       "    <tr>\n",
       "      <th>2</th>\n",
       "      <td>14010000543458876</td>\n",
       "      <td>23:56:27</td>\n",
       "      <td>23:56:27</td>\n",
       "      <td>9022001040049002</td>\n",
       "      <td>3</td>\n",
       "      <td>Slussen</td>\n",
       "      <td>3</td>\n",
       "      <td>3</td>\n",
       "      <td>557.90</td>\n",
       "      <td>0</td>\n",
       "    </tr>\n",
       "    <tr>\n",
       "      <th>3</th>\n",
       "      <td>14010000543458876</td>\n",
       "      <td>23:56:57</td>\n",
       "      <td>23:56:57</td>\n",
       "      <td>9022001040048001</td>\n",
       "      <td>4</td>\n",
       "      <td>Slussen</td>\n",
       "      <td>3</td>\n",
       "      <td>3</td>\n",
       "      <td>858.07</td>\n",
       "      <td>0</td>\n",
       "    </tr>\n",
       "    <tr>\n",
       "      <th>4</th>\n",
       "      <td>14010000543458876</td>\n",
       "      <td>23:57:28</td>\n",
       "      <td>23:57:28</td>\n",
       "      <td>9022001040034001</td>\n",
       "      <td>5</td>\n",
       "      <td>Slussen</td>\n",
       "      <td>3</td>\n",
       "      <td>3</td>\n",
       "      <td>1107.22</td>\n",
       "      <td>0</td>\n",
       "    </tr>\n",
       "  </tbody>\n",
       "</table>\n",
       "</div>"
      ],
      "text/plain": [
       "             trip_id arrival_time departure_time           stop_id  \\\n",
       "0  14010000543458876     23:55:00       23:55:00  9022001040004001   \n",
       "1  14010000543458876     23:55:37       23:55:37  9022001040051002   \n",
       "2  14010000543458876     23:56:27       23:56:27  9022001040049002   \n",
       "3  14010000543458876     23:56:57       23:56:57  9022001040048001   \n",
       "4  14010000543458876     23:57:28       23:57:28  9022001040034001   \n",
       "\n",
       "   stop_sequence stop_headsign  pickup_type  drop_off_type  \\\n",
       "0              1       Slussen            3              1   \n",
       "1              2       Slussen            3              3   \n",
       "2              3       Slussen            3              3   \n",
       "3              4       Slussen            3              3   \n",
       "4              5       Slussen            3              3   \n",
       "\n",
       "   shape_dist_traveled  timepoint  \n",
       "0                 0.00          1  \n",
       "1               308.12          0  \n",
       "2               557.90          0  \n",
       "3               858.07          0  \n",
       "4              1107.22          0  "
      ]
     },
     "execution_count": 27,
     "metadata": {},
     "output_type": "execute_result"
    }
   ],
   "source": [
    "stop_times.head()"
   ]
  },
  {
   "cell_type": "code",
   "execution_count": 28,
   "metadata": {},
   "outputs": [],
   "source": [
    "central_lat,central_lon = 59.331987,18.062266\n",
    "central_pt = Point(central_lat,central_lon)"
   ]
  },
  {
   "cell_type": "code",
   "execution_count": 29,
   "metadata": {},
   "outputs": [],
   "source": [
    "class stop_remover:\n",
    "    \n",
    "    def __init__(self,stops,stop_times,trips,lat,lon):\n",
    "        self.stops = stops\n",
    "        self.stop_times = stop_times\n",
    "        self.trips = trips\n",
    "        self.lat = lat\n",
    "        self.lon = lon\n",
    "        self.nearby_stops = None\n",
    "        self.removed_stop_locs = None\n",
    "        self.trip_ids_tp_remove = None\n",
    "        \n",
    "    def get_nearby_stops(self):\n",
    "        nearby_stops = []\n",
    "        for idx,(stoplat,stoplon) in self.stops.loc[:,['stop_lat','stop_lon']].iterrows():\n",
    "            if haversine(self.lat,self.lon,stoplat,stoplon) < 2000:\n",
    "                nearby_stops.append(self.stops.loc[idx,'stop_id'])\n",
    "        self.nearby_stops = nearby_stops\n",
    "        removed_stop_locs = self.stops.set_index('stop_id').loc[self.nearby_stops,['stop_lon','stop_lat']].values\n",
    "        self.removed_stop_locs = removed_stop_locs\n",
    "        return nearby_stops\n",
    "    \n",
    "    def removed_stops_to_file(self,filename):\n",
    "        \n",
    "        gpd.GeoSeries(gpd.points_from_xy(self.removed_stop_locs[:,0],self.removed_stop_locs[:,1])).to_file(filename,driver='GeoJSON')\n",
    "    \n",
    "    @staticmethod\n",
    "    def get_centroid(arr):\n",
    "        x_cent = np.mean(arr[:,0])\n",
    "        y_cent = np.mean(arr[:,1])\n",
    "        return np.array([x_cent,y_cent])\n",
    "\n",
    "    \n",
    "    def nearest_gridpt(self,gridlocs):\n",
    "        arr_cent = self.get_centroid(self.removed_stop_locs)\n",
    "        return np.argmin([np.linalg.norm(x-arr_cent) for x in gridlocs])\n",
    "    \n",
    "    \n",
    "    def is_removed(self,x):\n",
    "        return x in self.nearby_stops\n",
    "    \n",
    "    def clean_trips(self):\n",
    "        self.trip_ids_to_remove = set(self.stop_times[self.stop_times['stop_id'].map(self.is_removed)]['trip_id'].values)\n",
    "        \n",
    "    \n",
    "    \n",
    "\n"
   ]
  },
  {
   "cell_type": "code",
   "execution_count": 30,
   "metadata": {},
   "outputs": [],
   "source": [
    "def get_edited_times(sr):\n",
    "    def not_removed(x):\n",
    "        return not sr.is_removed(x)\n",
    "    return stop_times[stop_times['stop_id'].map(not_removed)]"
   ]
  },
  {
   "cell_type": "code",
   "execution_count": 31,
   "metadata": {},
   "outputs": [],
   "source": [
    "def create_edited_times(lat,lon):\n",
    "    sr = stop_remover(stops,stop_times,trips,lat,lon)\n",
    "    sr.get_nearby_stops()\n",
    "    stop_times_edited = get_edited_times(sr)\n",
    "    stop_times_edited.to_csv('edited_gtfs/stop_times.txt',index=False)\n",
    "    return sr"
   ]
  },
  {
   "cell_type": "code",
   "execution_count": 32,
   "metadata": {},
   "outputs": [],
   "source": [
    "def write_gtfs():\n",
    "    with ZipFile('edited_gtfs.zip', 'w',compression=ZIP_DEFLATED) as myzip:\n",
    "        for file in os.listdir('edited_gtfs'):\n",
    "            myzip.write(f'edited_gtfs/{file}')\n",
    "        "
   ]
  },
  {
   "cell_type": "code",
   "execution_count": 33,
   "metadata": {},
   "outputs": [],
   "source": [
    "kista_lat,kista_lon = 59.40109670140113, 17.94870101822394"
   ]
  },
  {
   "cell_type": "code",
   "execution_count": 34,
   "metadata": {},
   "outputs": [],
   "source": [
    "sr = create_edited_times(kista_lat,kista_lon)\n",
    "write_gtfs()\n",
    "sr.nearest_gridpt(grid_xy) # what's the point of this? "
   ]
  },
  {
   "cell_type": "code",
   "execution_count": 38,
   "id": "4a08d60a",
   "metadata": {},
   "outputs": [
    {
     "name": "stdout",
     "output_type": "stream",
     "text": [
      "True\n"
     ]
    }
   ],
   "source": [
    "print(os.path.exists(\"./edited_gtfs/stop_times.txt\"))"
   ]
  },
  {
   "cell_type": "code",
   "execution_count": 35,
   "metadata": {},
   "outputs": [],
   "source": [
    "sr.removed_stops_to_file('removed_stops_17.json')"
   ]
  },
  {
   "cell_type": "code",
   "execution_count": 36,
   "metadata": {},
   "outputs": [],
   "source": [
    "write_gtfs()"
   ]
  },
  {
   "cell_type": "code",
   "execution_count": 102,
   "metadata": {},
   "outputs": [
    {
     "ename": "IndentationError",
     "evalue": "expected an indented block (845420033.py, line 5)",
     "output_type": "error",
     "traceback": [
      "\u001b[0;36m  Cell \u001b[0;32mIn [102], line 5\u001b[0;36m\u001b[0m\n\u001b[0;31m    \u001b[0m\n\u001b[0m    ^\u001b[0m\n\u001b[0;31mIndentationError\u001b[0m\u001b[0;31m:\u001b[0m expected an indented block\n"
     ]
    }
   ],
   "source": [
    "def is_nearby(stop):\n",
    "    return \n",
    "\n",
    "def update_stop_times(nearby_stops):\n",
    "    "
   ]
  },
  {
   "cell_type": "code",
   "execution_count": null,
   "metadata": {},
   "outputs": [],
   "source": [
    "new_stop_times = stop_times"
   ]
  },
  {
   "cell_type": "code",
   "execution_count": null,
   "metadata": {},
   "outputs": [],
   "source": []
  },
  {
   "cell_type": "code",
   "execution_count": null,
   "metadata": {},
   "outputs": [],
   "source": [
    "trips_re = trips.set_index('trip_id')"
   ]
  },
  {
   "cell_type": "code",
   "execution_count": null,
   "metadata": {},
   "outputs": [],
   "source": [
    "central_trips = trips_re.loc[all_trip_ids,:]"
   ]
  },
  {
   "cell_type": "code",
   "execution_count": null,
   "metadata": {},
   "outputs": [],
   "source": [
    "central_trips"
   ]
  },
  {
   "cell_type": "code",
   "execution_count": null,
   "metadata": {},
   "outputs": [],
   "source": [
    "central_routes = set(central_trips['route_id'].values)"
   ]
  },
  {
   "cell_type": "code",
   "execution_count": null,
   "metadata": {},
   "outputs": [],
   "source": [
    "len(central_routes)"
   ]
  },
  {
   "cell_type": "code",
   "execution_count": null,
   "metadata": {},
   "outputs": [],
   "source": [
    "len(nearby_stops)"
   ]
  },
  {
   "cell_type": "code",
   "execution_count": null,
   "metadata": {},
   "outputs": [],
   "source": [
    "nearby_stops_str = [str(x) for x in nearby_stops]\n",
    "central_routes_str = [str(x) for x in central_routes]"
   ]
  },
  {
   "cell_type": "code",
   "execution_count": null,
   "metadata": {},
   "outputs": [],
   "source": [
    "sample_json = {\n",
    "  \"name\": \"testestes\",\n",
    "  \"variants\": [\n",
    "    True,\n",
    "    True,\n",
    "    True\n",
    "  ],\n",
    "  \"description\": None,\n",
    "  \"feed\": \"602c4d1cfbd5464357cfafdc\",\n",
    "  \"routes\": central_routes_str,\n",
    "  \"trips\": None,\n",
    "  \"stops\": nearby_stops_str,\n",
    "  \"secondsSavedAtEachStop\": -600\n",
    "}"
   ]
  },
  {
   "cell_type": "code",
   "execution_count": null,
   "metadata": {},
   "outputs": [],
   "source": [
    "with open('sample_stop_json.json','w+') as f:\n",
    "    f.write(json.dumps(sample_json))"
   ]
  },
  {
   "cell_type": "code",
   "execution_count": null,
   "metadata": {},
   "outputs": [],
   "source": [
    "stops_gdf = gpd.GeoDataFrame(stops,geometry=gpd.points_from_xy(stops.stop_lon,stops.stop_lat))"
   ]
  },
  {
   "cell_type": "code",
   "execution_count": null,
   "metadata": {},
   "outputs": [],
   "source": [
    "stops_gdf.to_file('stops.json',driver='GeoJSON')"
   ]
  },
  {
   "cell_type": "code",
   "execution_count": null,
   "metadata": {},
   "outputs": [
    {
     "data": {
      "text/html": [
       "<div>\n",
       "<style scoped>\n",
       "    .dataframe tbody tr th:only-of-type {\n",
       "        vertical-align: middle;\n",
       "    }\n",
       "\n",
       "    .dataframe tbody tr th {\n",
       "        vertical-align: top;\n",
       "    }\n",
       "\n",
       "    .dataframe thead th {\n",
       "        text-align: right;\n",
       "    }\n",
       "</style>\n",
       "<table border=\"1\" class=\"dataframe\">\n",
       "  <thead>\n",
       "    <tr style=\"text-align: right;\">\n",
       "      <th></th>\n",
       "      <th>stop_id</th>\n",
       "      <th>stop_name</th>\n",
       "      <th>stop_lat</th>\n",
       "      <th>stop_lon</th>\n",
       "      <th>location_type</th>\n",
       "      <th>parent_station</th>\n",
       "      <th>platform_code</th>\n",
       "    </tr>\n",
       "  </thead>\n",
       "  <tbody>\n",
       "    <tr>\n",
       "      <th>0</th>\n",
       "      <td>9021001070004000</td>\n",
       "      <td>Alhagsvägen</td>\n",
       "      <td>59.234952</td>\n",
       "      <td>17.851566</td>\n",
       "      <td>1</td>\n",
       "      <td>NaN</td>\n",
       "      <td>NaN</td>\n",
       "    </tr>\n",
       "    <tr>\n",
       "      <th>1</th>\n",
       "      <td>9021001070006000</td>\n",
       "      <td>Alby IP</td>\n",
       "      <td>59.237646</td>\n",
       "      <td>17.851894</td>\n",
       "      <td>1</td>\n",
       "      <td>NaN</td>\n",
       "      <td>NaN</td>\n",
       "    </tr>\n",
       "    <tr>\n",
       "      <th>2</th>\n",
       "      <td>9021001070010000</td>\n",
       "      <td>Albyvägen</td>\n",
       "      <td>59.237828</td>\n",
       "      <td>17.837123</td>\n",
       "      <td>1</td>\n",
       "      <td>NaN</td>\n",
       "      <td>NaN</td>\n",
       "    </tr>\n",
       "    <tr>\n",
       "      <th>3</th>\n",
       "      <td>9021001070012000</td>\n",
       "      <td>Hantverkarvägen</td>\n",
       "      <td>59.235563</td>\n",
       "      <td>17.836068</td>\n",
       "      <td>1</td>\n",
       "      <td>NaN</td>\n",
       "      <td>NaN</td>\n",
       "    </tr>\n",
       "    <tr>\n",
       "      <th>4</th>\n",
       "      <td>9021001070022000</td>\n",
       "      <td>Tegelbruksvägen</td>\n",
       "      <td>59.253833</td>\n",
       "      <td>17.868793</td>\n",
       "      <td>1</td>\n",
       "      <td>NaN</td>\n",
       "      <td>NaN</td>\n",
       "    </tr>\n",
       "  </tbody>\n",
       "</table>\n",
       "</div>"
      ],
      "text/plain": [
       "            stop_id        stop_name   stop_lat   stop_lon  location_type  \\\n",
       "0  9021001070004000      Alhagsvägen  59.234952  17.851566              1   \n",
       "1  9021001070006000          Alby IP  59.237646  17.851894              1   \n",
       "2  9021001070010000        Albyvägen  59.237828  17.837123              1   \n",
       "3  9021001070012000  Hantverkarvägen  59.235563  17.836068              1   \n",
       "4  9021001070022000  Tegelbruksvägen  59.253833  17.868793              1   \n",
       "\n",
       "   parent_station platform_code  \n",
       "0             NaN           NaN  \n",
       "1             NaN           NaN  \n",
       "2             NaN           NaN  \n",
       "3             NaN           NaN  \n",
       "4             NaN           NaN  "
      ]
     },
     "execution_count": 35,
     "metadata": {},
     "output_type": "execute_result"
    }
   ],
   "source": [
    "stops.head()"
   ]
  },
  {
   "cell_type": "code",
   "execution_count": null,
   "metadata": {},
   "outputs": [
    {
     "data": {
      "text/html": [
       "<div>\n",
       "<style scoped>\n",
       "    .dataframe tbody tr th:only-of-type {\n",
       "        vertical-align: middle;\n",
       "    }\n",
       "\n",
       "    .dataframe tbody tr th {\n",
       "        vertical-align: top;\n",
       "    }\n",
       "\n",
       "    .dataframe thead th {\n",
       "        text-align: right;\n",
       "    }\n",
       "</style>\n",
       "<table border=\"1\" class=\"dataframe\">\n",
       "  <thead>\n",
       "    <tr style=\"text-align: right;\">\n",
       "      <th></th>\n",
       "      <th>shape_id</th>\n",
       "      <th>shape_pt_lat</th>\n",
       "      <th>shape_pt_lon</th>\n",
       "      <th>shape_pt_sequence</th>\n",
       "      <th>shape_dist_traveled</th>\n",
       "    </tr>\n",
       "  </thead>\n",
       "  <tbody>\n",
       "    <tr>\n",
       "      <th>0</th>\n",
       "      <td>1</td>\n",
       "      <td>59.251633</td>\n",
       "      <td>18.175625</td>\n",
       "      <td>1</td>\n",
       "      <td>0.00</td>\n",
       "    </tr>\n",
       "    <tr>\n",
       "      <th>1</th>\n",
       "      <td>1</td>\n",
       "      <td>59.251619</td>\n",
       "      <td>18.175669</td>\n",
       "      <td>2</td>\n",
       "      <td>0.00</td>\n",
       "    </tr>\n",
       "    <tr>\n",
       "      <th>2</th>\n",
       "      <td>1</td>\n",
       "      <td>59.251501</td>\n",
       "      <td>18.175583</td>\n",
       "      <td>3</td>\n",
       "      <td>14.00</td>\n",
       "    </tr>\n",
       "    <tr>\n",
       "      <th>3</th>\n",
       "      <td>1</td>\n",
       "      <td>59.251474</td>\n",
       "      <td>18.175509</td>\n",
       "      <td>4</td>\n",
       "      <td>19.21</td>\n",
       "    </tr>\n",
       "    <tr>\n",
       "      <th>4</th>\n",
       "      <td>1</td>\n",
       "      <td>59.251445</td>\n",
       "      <td>18.175397</td>\n",
       "      <td>5</td>\n",
       "      <td>26.31</td>\n",
       "    </tr>\n",
       "  </tbody>\n",
       "</table>\n",
       "</div>"
      ],
      "text/plain": [
       "   shape_id  shape_pt_lat  shape_pt_lon  shape_pt_sequence  \\\n",
       "0         1     59.251633     18.175625                  1   \n",
       "1         1     59.251619     18.175669                  2   \n",
       "2         1     59.251501     18.175583                  3   \n",
       "3         1     59.251474     18.175509                  4   \n",
       "4         1     59.251445     18.175397                  5   \n",
       "\n",
       "   shape_dist_traveled  \n",
       "0                 0.00  \n",
       "1                 0.00  \n",
       "2                14.00  \n",
       "3                19.21  \n",
       "4                26.31  "
      ]
     },
     "execution_count": 36,
     "metadata": {},
     "output_type": "execute_result"
    }
   ],
   "source": [
    "shapes.head()"
   ]
  },
  {
   "cell_type": "code",
   "execution_count": null,
   "metadata": {},
   "outputs": [
    {
     "data": {
      "text/plain": [
       "<pandas.core.groupby.generic.DataFrameGroupBy object at 0x7fa1d508f990>"
      ]
     },
     "execution_count": 7,
     "metadata": {},
     "output_type": "execute_result"
    }
   ],
   "source": [
    "def group_shape(grouped_df):\n",
    "    tot_dist = grouped_df['shape_dist_traveled']\n",
    "shapes.groupby(by='shape_id')"
   ]
  },
  {
   "cell_type": "code",
   "execution_count": null,
   "metadata": {},
   "outputs": [
    {
     "data": {
      "text/html": [
       "<div>\n",
       "<style scoped>\n",
       "    .dataframe tbody tr th:only-of-type {\n",
       "        vertical-align: middle;\n",
       "    }\n",
       "\n",
       "    .dataframe tbody tr th {\n",
       "        vertical-align: top;\n",
       "    }\n",
       "\n",
       "    .dataframe thead th {\n",
       "        text-align: right;\n",
       "    }\n",
       "</style>\n",
       "<table border=\"1\" class=\"dataframe\">\n",
       "  <thead>\n",
       "    <tr style=\"text-align: right;\">\n",
       "      <th></th>\n",
       "      <th>route_id</th>\n",
       "      <th>agency_id</th>\n",
       "      <th>route_short_name</th>\n",
       "      <th>route_long_name</th>\n",
       "      <th>route_type</th>\n",
       "    </tr>\n",
       "  </thead>\n",
       "  <tbody>\n",
       "    <tr>\n",
       "      <th>0</th>\n",
       "      <td>9011001019300000</td>\n",
       "      <td>14010000000001001</td>\n",
       "      <td>193</td>\n",
       "      <td>NaN</td>\n",
       "      <td>700</td>\n",
       "    </tr>\n",
       "    <tr>\n",
       "      <th>1</th>\n",
       "      <td>9011001055200000</td>\n",
       "      <td>14010000000001001</td>\n",
       "      <td>552</td>\n",
       "      <td>NaN</td>\n",
       "      <td>700</td>\n",
       "    </tr>\n",
       "    <tr>\n",
       "      <th>2</th>\n",
       "      <td>9011001011900000</td>\n",
       "      <td>14010000000001001</td>\n",
       "      <td>119</td>\n",
       "      <td>NaN</td>\n",
       "      <td>700</td>\n",
       "    </tr>\n",
       "    <tr>\n",
       "      <th>3</th>\n",
       "      <td>9011005098200000</td>\n",
       "      <td>14010000000002005</td>\n",
       "      <td>982</td>\n",
       "      <td>NaN</td>\n",
       "      <td>700</td>\n",
       "    </tr>\n",
       "    <tr>\n",
       "      <th>4</th>\n",
       "      <td>9011001065600000</td>\n",
       "      <td>14010000000001001</td>\n",
       "      <td>656</td>\n",
       "      <td>NaN</td>\n",
       "      <td>700</td>\n",
       "    </tr>\n",
       "  </tbody>\n",
       "</table>\n",
       "</div>"
      ],
      "text/plain": [
       "           route_id          agency_id route_short_name route_long_name  \\\n",
       "0  9011001019300000  14010000000001001              193             NaN   \n",
       "1  9011001055200000  14010000000001001              552             NaN   \n",
       "2  9011001011900000  14010000000001001              119             NaN   \n",
       "3  9011005098200000  14010000000002005              982             NaN   \n",
       "4  9011001065600000  14010000000001001              656             NaN   \n",
       "\n",
       "   route_type  \n",
       "0         700  \n",
       "1         700  \n",
       "2         700  \n",
       "3         700  \n",
       "4         700  "
      ]
     },
     "execution_count": 8,
     "metadata": {},
     "output_type": "execute_result"
    }
   ],
   "source": [
    "routes.head()"
   ]
  },
  {
   "cell_type": "code",
   "execution_count": null,
   "metadata": {},
   "outputs": [
    {
     "data": {
      "text/plain": [
       "{100, 401, 700, 717, 900, 1000}"
      ]
     },
     "execution_count": 9,
     "metadata": {},
     "output_type": "execute_result"
    }
   ],
   "source": [
    "set(routes['route_type'])"
   ]
  },
  {
   "cell_type": "code",
   "execution_count": null,
   "metadata": {},
   "outputs": [
    {
     "data": {
      "text/plain": [
       "664"
      ]
     },
     "execution_count": 10,
     "metadata": {},
     "output_type": "execute_result"
    }
   ],
   "source": [
    "len(routes)"
   ]
  },
  {
   "cell_type": "markdown",
   "metadata": {},
   "source": [
    "### Route types\n",
    "- 100: Railway Service\n",
    "- 401: Metro Service\n",
    "- 700: Bus Service\n",
    "- 900: Tram Service\n",
    "- 1000: Water Transport Service"
   ]
  },
  {
   "cell_type": "code",
   "execution_count": null,
   "metadata": {},
   "outputs": [],
   "source": [
    "allowed_types = {700}"
   ]
  },
  {
   "cell_type": "code",
   "execution_count": null,
   "metadata": {},
   "outputs": [],
   "source": [
    "allowed_routes = routes[routes['route_type'].map(lambda x: x in allowed_types)]"
   ]
  },
  {
   "cell_type": "code",
   "execution_count": null,
   "metadata": {},
   "outputs": [
    {
     "data": {
      "text/plain": [
       "577"
      ]
     },
     "execution_count": 13,
     "metadata": {},
     "output_type": "execute_result"
    }
   ],
   "source": [
    "len(allowed_routes)"
   ]
  },
  {
   "cell_type": "code",
   "execution_count": null,
   "metadata": {},
   "outputs": [],
   "source": [
    "merge_trips = allowed_routes.merge(trips,how='left',left_on = 'route_id',right_on='route_id')"
   ]
  },
  {
   "cell_type": "code",
   "execution_count": null,
   "metadata": {},
   "outputs": [],
   "source": [
    "merge_trips = merge_trips[~merge_trips['shape_id'].duplicated()]"
   ]
  },
  {
   "cell_type": "code",
   "execution_count": null,
   "metadata": {},
   "outputs": [],
   "source": [
    "merge_shapes = merge_trips.merge(shapes,how='left',left_on='shape_id',right_on='shape_id')"
   ]
  },
  {
   "cell_type": "code",
   "execution_count": null,
   "metadata": {},
   "outputs": [
    {
     "data": {
      "text/plain": [
       "2022152"
      ]
     },
     "execution_count": 17,
     "metadata": {},
     "output_type": "execute_result"
    }
   ],
   "source": [
    "len(merge_shapes)"
   ]
  },
  {
   "cell_type": "code",
   "execution_count": null,
   "metadata": {},
   "outputs": [],
   "source": [
    "gdf = gpd.GeoDataFrame(merge_shapes,geometry=gpd.points_from_xy(merge_shapes.shape_pt_lon,merge_shapes.shape_pt_lat))"
   ]
  },
  {
   "cell_type": "code",
   "execution_count": null,
   "metadata": {},
   "outputs": [],
   "source": [
    "gdf.to_file('StockholmBusses.json',driver='GeoJSON')"
   ]
  },
  {
   "cell_type": "code",
   "execution_count": null,
   "metadata": {},
   "outputs": [],
   "source": []
  }
 ],
 "metadata": {
  "kernelspec": {
   "display_name": "Python 3.9.7 ('.venv': venv)",
   "language": "python",
   "name": "python3"
  },
  "language_info": {
   "codemirror_mode": {
    "name": "ipython",
    "version": 3
   },
   "file_extension": ".py",
   "mimetype": "text/x-python",
   "name": "python",
   "nbconvert_exporter": "python",
   "pygments_lexer": "ipython3",
   "version": "3.9.7"
  },
  "vscode": {
   "interpreter": {
    "hash": "6d73269661cd96e104e0c8367fe54e880a091a1681a7536cc663a21382d9b9ea"
   }
  }
 },
 "nbformat": 4,
 "nbformat_minor": 5
}
